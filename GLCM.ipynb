{
 "cells": [
  {
   "cell_type": "code",
   "execution_count": 4,
   "metadata": {},
   "outputs": [],
   "source": [
    "import PIL.Image as lp1\n",
    "import matplotlib.pyplot as lp2\n",
    "import numpy as lp3\n",
    "import cv2\n",
    "import math"
   ]
  },
  {
   "cell_type": "code",
   "execution_count": 5,
   "metadata": {},
   "outputs": [],
   "source": [
    "img = cv2.imread(\"wajah.jpg\", 2)\n",
    "img_arr = lp3.array(img)\n",
    "ret, bw_img = cv2.threshold(img, 0, 255, cv2.THRESH_BINARY+cv2.THRESH_OTSU)\n",
    "x,y = img.shape\n"
   ]
  },
  {
   "cell_type": "code",
   "execution_count": 6,
   "metadata": {},
   "outputs": [
    {
     "data": {
      "image/png": "[encoded data removed]",
      "text/plain": [
       "<Figure size 432x288 with 1 Axes>"
      ]
     },
     "metadata": {
      "needs_background": "light"
     },
     "output_type": "display_data"
    }
   ],
   "source": [
    "img_gray = lp2.imshow(bw_img, \"gray\")"
   ]
  },
  {
   "cell_type": "code",
   "execution_count": 7,
   "metadata": {},
   "outputs": [
    {
     "name": "stdout",
     "output_type": "stream",
     "text": [
      "[[109 110 110 ...  86  86  86]\n",
      " [112 113 113 ...  86  86  86]\n",
      " [117 117 117 ...  86  86  86]\n",
      " ...\n",
      " [198 201 205 ...  32  39  47]\n",
      " [191 194 198 ...  32  39  47]\n",
      " [186 189 193 ...  32  39  47]]\n"
     ]
    }
   ],
   "source": [
    "print(img_arr)"
   ]
  },
  {
   "cell_type": "code",
   "execution_count": 8,
   "metadata": {},
   "outputs": [
    {
     "name": "stdout",
     "output_type": "stream",
     "text": [
      "[[0 1 2 4 3]\n",
      " [3 4 5 1 0]\n",
      " [2 2 3 1 4]\n",
      " [1 4 2 3 1]\n",
      " [5 0 1 2 4]\n",
      " [4 1 0 3 2]]\n"
     ]
    }
   ],
   "source": [
    "array_awal = lp3.array([[0,1,2,4,3],\n",
    "                       [3,4,5,1,0],\n",
    "                       [2,2,3,1,4],\n",
    "                       [1,4,2,3,1],\n",
    "                       [5,0,1,2,4],\n",
    "                       [4,1,0,3,2]])\n",
    "print(array_awal)"
   ]
  },
  {
   "cell_type": "code",
   "execution_count": 9,
   "metadata": {},
   "outputs": [
    {
     "name": "stdout",
     "output_type": "stream",
     "text": [
      "[[0. 2. 0. 1. 0. 0.]\n",
      " [2. 0. 2. 0. 2. 0.]\n",
      " [0. 0. 1. 2. 2. 0.]\n",
      " [0. 2. 1. 0. 1. 0.]\n",
      " [0. 1. 1. 1. 0. 1.]\n",
      " [1. 1. 0. 0. 0. 0.]]\n"
     ]
    },
    {
     "data": {
      "text/plain": [
       "<matplotlib.image.AxesImage at 0x2ec3d55bb70>"
      ]
     },
     "execution_count": 9,
     "metadata": {},
     "output_type": "execute_result"
    },
    {
     "data": {
      "image/png": "[encoded data removed]",
      "text/plain": [
       "<Figure size 432x288 with 1 Axes>"
      ]
     },
     "metadata": {
      "needs_background": "light"
     },
     "output_type": "display_data"
    }
   ],
   "source": [
    "# max = lp3.max(img_arr)\n",
    "max = lp3.max(array_awal)\n",
    "matriks0 = lp3.zeros((max+1, max+1))\n",
    "\n",
    "def derajat0(matriks, array):\n",
    "    for i in range(len(array)):\n",
    "        for j in range(len(array[1])-1):\n",
    "            matriks[array[i,j],array[i,j+1]] += 1\n",
    "    return matriks\n",
    "\n",
    "# derajat0(matriks0, img_arr)\n",
    "derajat0(matriks0, array_awal)\n",
    "print(matriks0)\n",
    "lp2.imshow(matriks0, \"gray\")"
   ]
  },
  {
   "cell_type": "code",
   "execution_count": 10,
   "metadata": {},
   "outputs": [
    {
     "data": {
      "text/plain": [
       "<matplotlib.image.AxesImage at 0x2ec3d5c2160>"
      ]
     },
     "execution_count": 10,
     "metadata": {},
     "output_type": "execute_result"
    },
    {
     "data": {
      "image/png": "[encoded data removed]",
      "text/plain": [
       "<Figure size 432x288 with 1 Axes>"
      ]
     },
     "metadata": {
      "needs_background": "light"
     },
     "output_type": "display_data"
    }
   ],
   "source": [
    "matriks_transpose = lp3.transpose(matriks0)  \n",
    "\n",
    "matriks_akhir0 = matriks0 + matriks_transpose\n",
    "lp2.imshow(matriks_akhir0, \"gray\")"
   ]
  },
  {
   "cell_type": "code",
   "execution_count": 11,
   "metadata": {},
   "outputs": [
    {
     "name": "stdout",
     "output_type": "stream",
     "text": [
      "[[1. 0. 0. 0. 1. 0.]\n",
      " [1. 1. 0. 1. 1. 1.]\n",
      " [0. 1. 3. 0. 1. 0.]\n",
      " [0. 0. 1. 1. 1. 0.]\n",
      " [1. 1. 0. 1. 0. 0.]\n",
      " [0. 2. 0. 0. 0. 0.]]\n"
     ]
    },
    {
     "data": {
      "text/plain": [
       "<matplotlib.image.AxesImage at 0x2ec3d619cf8>"
      ]
     },
     "execution_count": 11,
     "metadata": {},
     "output_type": "execute_result"
    },
    {
     "data": {
      "image/png": "[encoded data removed]",
      "text/plain": [
       "<Figure size 432x288 with 1 Axes>"
      ]
     },
     "metadata": {
      "needs_background": "light"
     },
     "output_type": "display_data"
    }
   ],
   "source": [
    "matriks45 = lp3.zeros((max+1, max+1))\n",
    "\n",
    "def derajat45(matriks, array):\n",
    "    for i in range(len(array)-1):\n",
    "        for j in range(len(array[1])-1):\n",
    "            matriks[array[i,j],array[i+1,j+1]] += 1\n",
    "    return matriks\n",
    "\n",
    "# derajat45(matriks45, img_arr)\n",
    "derajat45(matriks45, array_awal)\n",
    "print(matriks45)\n",
    "lp2.imshow(matriks45, \"gray\")"
   ]
  },
  {
   "cell_type": "code",
   "execution_count": 12,
   "metadata": {},
   "outputs": [
    {
     "data": {
      "text/plain": [
       "<matplotlib.image.AxesImage at 0x2ec3d675e10>"
      ]
     },
     "execution_count": 12,
     "metadata": {},
     "output_type": "execute_result"
    },
    {
     "data": {
      "image/png": "[encoded data removed]",
      "text/plain": [
       "<Figure size 432x288 with 1 Axes>"
      ]
     },
     "metadata": {
      "needs_background": "light"
     },
     "output_type": "display_data"
    }
   ],
   "source": [
    "matriks_transpose1 = lp3.transpose(matriks45)  \n",
    "\n",
    "matriks_akhir45 = matriks45 + matriks_transpose1\n",
    "lp2.imshow(matriks_akhir45, \"gray\")"
   ]
  },
  {
   "cell_type": "code",
   "execution_count": 13,
   "metadata": {},
   "outputs": [
    {
     "name": "stdout",
     "output_type": "stream",
     "text": [
      "[[0. 1. 0. 1. 1. 0.]\n",
      " [1. 1. 0. 1. 2. 1.]\n",
      " [0. 2. 0. 1. 1. 1.]\n",
      " [1. 0. 3. 0. 0. 0.]\n",
      " [1. 2. 2. 0. 0. 0.]\n",
      " [0. 0. 0. 1. 1. 0.]]\n"
     ]
    },
    {
     "data": {
      "text/plain": [
       "<matplotlib.image.AxesImage at 0x2ec3d6d9908>"
      ]
     },
     "execution_count": 13,
     "metadata": {},
     "output_type": "execute_result"
    },
    {
     "data": {
      "image/png": "[encoded data removed]",
      "text/plain": [
       "<Figure size 432x288 with 1 Axes>"
      ]
     },
     "metadata": {
      "needs_background": "light"
     },
     "output_type": "display_data"
    }
   ],
   "source": [
    "matriks90 = lp3.zeros((max+1, max+1))\n",
    "\n",
    "def derajat90(matriks, array):\n",
    "    for i in range(len(array)-1):\n",
    "        for j in range(len(array[1])):\n",
    "            matriks[array[i,j],array[i+1,j]] += 1\n",
    "    return matriks\n",
    "\n",
    "# derajat90(matriks90, img_arr)\n",
    "derajat90(matriks90, array_awal)\n",
    "print(matriks90)\n",
    "lp2.imshow(matriks90, \"gray\")"
   ]
  },
  {
   "cell_type": "code",
   "execution_count": 14,
   "metadata": {},
   "outputs": [
    {
     "data": {
      "text/plain": [
       "<matplotlib.image.AxesImage at 0x2ec3d734b00>"
      ]
     },
     "execution_count": 14,
     "metadata": {},
     "output_type": "execute_result"
    },
    {
     "data": {
      "image/png": "[encoded data removed]",
      "text/plain": [
       "<Figure size 432x288 with 1 Axes>"
      ]
     },
     "metadata": {
      "needs_background": "light"
     },
     "output_type": "display_data"
    }
   ],
   "source": [
    "matriks_transpose2 = lp3.transpose(matriks90)  \n",
    "\n",
    "matriks_akhir90 = matriks90 + matriks_transpose2\n",
    "lp2.imshow(matriks_akhir90, \"gray\")"
   ]
  },
  {
   "cell_type": "code",
   "execution_count": 15,
   "metadata": {},
   "outputs": [
    {
     "name": "stdout",
     "output_type": "stream",
     "text": [
      "[[0. 1. 0. 0. 1. 0.]\n",
      " [0. 1. 2. 2. 0. 0.]\n",
      " [2. 1. 0. 0. 1. 0.]\n",
      " [0. 2. 0. 0. 1. 0.]\n",
      " [0. 0. 1. 2. 0. 2.]\n",
      " [0. 0. 1. 0. 0. 0.]]\n"
     ]
    },
    {
     "data": {
      "text/plain": [
       "<matplotlib.image.AxesImage at 0x2ec3d79a6d8>"
      ]
     },
     "execution_count": 15,
     "metadata": {},
     "output_type": "execute_result"
    },
    {
     "data": {
      "image/png": "[encoded data removed]",
      "text/plain": [
       "<Figure size 432x288 with 1 Axes>"
      ]
     },
     "metadata": {
      "needs_background": "light"
     },
     "output_type": "display_data"
    }
   ],
   "source": [
    "matriks135 = lp3.zeros((max+1, max+1))\n",
    "\n",
    "def derajat135(matriks, array):\n",
    "    for i in range(len(array)-1):\n",
    "        for j in range(len(array[1])-1):\n",
    "            matriks[array[i,j+1],array[i+1,j]] += 1\n",
    "    return matriks\n",
    "\n",
    "# derajat135(matriks135, img_arr)\n",
    "derajat135(matriks135, array_awal)\n",
    "print(matriks135)\n",
    "lp2.imshow(matriks135, \"gray\")"
   ]
  },
  {
   "cell_type": "code",
   "execution_count": 16,
   "metadata": {},
   "outputs": [
    {
     "data": {
      "text/plain": [
       "<matplotlib.image.AxesImage at 0x2ec3d7f67f0>"
      ]
     },
     "execution_count": 16,
     "metadata": {},
     "output_type": "execute_result"
    },
    {
     "data": {
      "image/png": "[encoded data removed]",
      "text/plain": [
       "<Figure size 432x288 with 1 Axes>"
      ]
     },
     "metadata": {
      "needs_background": "light"
     },
     "output_type": "display_data"
    }
   ],
   "source": [
    "matriks_transpose3 = lp3.transpose(matriks135)  \n",
    "\n",
    "matriks_akhir135 = matriks135 + matriks_transpose3\n",
    "lp2.imshow(matriks_akhir135, \"gray\")"
   ]
  },
  {
   "cell_type": "code",
   "execution_count": 17,
   "metadata": {},
   "outputs": [
    {
     "name": "stdout",
     "output_type": "stream",
     "text": [
      "218.0\n",
      "222.0\n",
      "280.0\n",
      "132.0\n"
     ]
    }
   ],
   "source": [
    "contrast0 = 0\n",
    "contrast45 = 0\n",
    "contrast90 = 0\n",
    "contrast135 = 0\n",
    "\n",
    "def contrast(matriks, hasil):\n",
    "    for i in range(len(matriks)):\n",
    "        for j in range(len(matriks[1])):\n",
    "            hasil = hasil + pow(abs(i-j), 2) * matriks[i,j]\n",
    "#     print(hasil)\n",
    "    return hasil\n",
    "\n",
    "print(contrast(matriks_akhir0, contrast0))\n",
    "print(contrast(matriks_akhir45, contrast45))\n",
    "print(contrast(matriks_akhir90, contrast90))  \n",
    "print(contrast(matriks_akhir135, contrast135)) "
   ]
  },
  {
   "cell_type": "code",
   "execution_count": 18,
   "metadata": {},
   "outputs": [
    {
     "name": "stdout",
     "output_type": "stream",
     "text": [
      "40.56943661282433\n",
      "29.818879797456006\n",
      "41.249032760005925\n",
      "33.977762880815675\n"
     ]
    }
   ],
   "source": [
    "entropi0 = 0\n",
    "entropi45 = 0\n",
    "entropi90 = 0\n",
    "entropi135 = 0\n",
    "\n",
    "def entropy(matriks, hasil):\n",
    "    for i in range(len(matriks)):\n",
    "        for j in range(len(matriks[1])):\n",
    "            if(matriks[i,j]==0):\n",
    "                matriks[i,j]=matriks[i,j]+1\n",
    "                hasil = hasil + (matriks[i,j] * math.log(matriks[i,j]))\n",
    "#                 hasil = hasil + (matriks[i,j] * 0)\n",
    "            else:\n",
    "                hasil = hasil + (matriks[i,j] * math.log(matriks[i,j]))\n",
    "    return hasil\n",
    "\n",
    "print(entropy(matriks_akhir0, entropi0))\n",
    "print(entropy(matriks_akhir45, entropi45))\n",
    "print(entropy(matriks_akhir90, entropi90))  \n",
    "print(entropy(matriks_akhir135, entropi135)) "
   ]
  },
  {
   "cell_type": "code",
   "execution_count": 19,
   "metadata": {},
   "outputs": [
    {
     "name": "stdout",
     "output_type": "stream",
     "text": [
      "23.11221719457014\n",
      "23.06515837104072\n",
      "21.229864253393664\n",
      "21.512217194570134\n"
     ]
    }
   ],
   "source": [
    "energi0 = 0\n",
    "energi45 = 0\n",
    "energi90 = 0\n",
    "energi135 = 0\n",
    "\n",
    "def energy(matriks, hasil):\n",
    "    for i in range(len(matriks)):\n",
    "        for j in range(len(matriks[1])):\n",
    "            hasil = hasil + (matriks[i,j] / (1 + pow(i-j, 2)))\n",
    "    return hasil\n",
    "\n",
    "print(energy(matriks_akhir0, energi0))\n",
    "print(energy(matriks_akhir45, energi45))\n",
    "print(energy(matriks_akhir90, energi90))\n",
    "print(energy(matriks_akhir135, energi135))"
   ]
  },
  {
   "cell_type": "code",
   "execution_count": 20,
   "metadata": {},
   "outputs": [
    {
     "name": "stdout",
     "output_type": "stream",
     "text": [
      "135.0\n",
      "114.0\n",
      "139.0\n",
      "119.0\n"
     ]
    }
   ],
   "source": [
    "homo0 = 0\n",
    "homo45 = 0\n",
    "homo90 = 0\n",
    "homo135 = 0\n",
    "\n",
    "def homogenity(matriks, hasil):\n",
    "    for i in range(len(matriks)):\n",
    "        for j in range(len(matriks[1])):\n",
    "            hasil = hasil + pow(matriks[i,j], 2)\n",
    "    return hasil\n",
    "\n",
    "print(homogenity(matriks_akhir0, homo0))\n",
    "print(homogenity(matriks_akhir45, homo45))\n",
    "print(homogenity(matriks_akhir90, homo90))\n",
    "print(homogenity(matriks_akhir135, homo135))"
   ]
  },
  {
   "cell_type": "code",
   "execution_count": 24,
   "metadata": {},
   "outputs": [
    {
     "name": "stdout",
     "output_type": "stream",
     "text": [
      "(nan, 1.6944444444444444)\n"
     ]
    },
    {
     "name": "stderr",
     "output_type": "stream",
     "text": [
      "C:\\Users\\janmu\\Anaconda3\\lib\\site-packages\\ipykernel_launcher.py:18: RuntimeWarning: invalid value encountered in double_scalars\n"
     ]
    }
   ],
   "source": [
    "korelasi0 = 0\n",
    "coba = 0\n",
    "\n",
    "def korelasi(matriks, hasil, coba):\n",
    "    coba = 0\n",
    "    for i in range(len(matriks)):\n",
    "        for j in range(len(matriks[1])):\n",
    "            m1 = i-(i*matriks[i,j])\n",
    "            m2 = j-(j*matriks[i,j])\n",
    "            \n",
    "            coba = coba + matriks[i,j]\n",
    "            \n",
    "            t1 = matriks[i,j] * (i-m1)\n",
    "            t2 = matriks[i,j] * (j-m2)\n",
    "            \n",
    "#             t11 = math.sqrt(t1)\n",
    "#             t22 = math.sqrt(t2)\n",
    "            hasil = hasil + (m1 * m2 * matriks[i,j]) / (t1 * t2)\n",
    "    coba = coba/36\n",
    "    return hasil, coba\n",
    "\n",
    "print(korelasi(matriks_akhir0, korelasi0, coba)) "
   ]
  },
  {
   "cell_type": "code",
   "execution_count": null,
   "metadata": {},
   "outputs": [],
   "source": []
  },
  {
   "cell_type": "code",
   "execution_count": null,
   "metadata": {},
   "outputs": [],
   "source": []
  },
  {
   "cell_type": "code",
   "execution_count": null,
   "metadata": {},
   "outputs": [],
   "source": []
  }
 ],
 "metadata": {
  "kernelspec": {
   "display_name": "Python 3",
   "language": "python",
   "name": "python3"
  },
  "language_info": {
   "codemirror_mode": {
    "name": "ipython",
    "version": 3
   },
   "file_extension": ".py",
   "mimetype": "text/x-python",
   "name": "python",
   "nbconvert_exporter": "python",
   "pygments_lexer": "ipython3",
   "version": "3.7.3"
  }
 },
 "nbformat": 4,
 "nbformat_minor": 2
}
